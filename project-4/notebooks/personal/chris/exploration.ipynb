{
 "cells": [
  {
   "cell_type": "code",
   "execution_count": 5,
   "id": "f6169c0f",
   "metadata": {},
   "outputs": [],
   "source": [
    "import os\n",
    "\n",
    "# change working directory to project-3 root\n",
    "if os.getcwd().split('/')[-1] != 'project-4':\n",
    "    os.chdir('../../../')\n",
    "\n",
    "import pandas as pd\n",
    "import numpy as np\n",
    "\n",
    "from src.utils.preprocess import MutPreprocessor\n",
    "from src.utils.preprocess import GeneExpPreprocessor\n",
    "from src.utils.data_loader import load_expression_matrix\n",
    "from sklearn.preprocessing import StandardScaler"
   ]
  },
  {
   "cell_type": "code",
   "execution_count": 2,
   "id": "a78d871d",
   "metadata": {},
   "outputs": [
    {
     "name": "stdout",
     "output_type": "stream",
     "text": [
      "Loaded matrix with 1132 samples x 20531 genes\n",
      "Parsing gencode fasta file: data/raw/gencode.v23lift37.pc_transcripts.fa\n",
      "Finding longest CDS length for each gene\n",
      "Normalizing expression data to log1p(TPM)\n",
      "Subset data to patients with subtype: ['BRCA_Basal']\n",
      "Subset data to 171 patients with subtype: ['BRCA_Basal']\n",
      "Filtering out lowly expressed genes with mean expression of 1\n",
      "Filtering out lowest 50.0% of genes\n",
      "Subsetting to top 500 genes using method: variance\n"
     ]
    }
   ],
   "source": [
    "df_exp = GeneExpPreprocessor(subset_method='variance').get_df()"
   ]
  },
  {
   "cell_type": "code",
   "execution_count": null,
   "id": "9ac27dd5",
   "metadata": {},
   "outputs": [],
   "source": [
    "var_exp = df_exp.copy()"
   ]
  },
  {
   "cell_type": "code",
   "execution_count": null,
   "id": "5e148c66",
   "metadata": {},
   "outputs": [
    {
     "name": "stdout",
     "output_type": "stream",
     "text": [
      "Loaded matrix with 1132 samples x 20531 genes\n",
      "Parsing gencode fasta file: data/raw/gencode.v23lift37.pc_transcripts.fa\n",
      "Finding longest CDS length for each gene\n",
      "Normalizing expression data to log1p(TPM)\n",
      "Filtering out lowly expressed genes with mean expression of 1\n",
      "Filtering out lowest 50.0% of genes\n",
      "Subsetting to top 500 genes using method: dndscv\n"
     ]
    }
   ],
   "source": [
    "df_exp = GeneExpPreprocessor().get_preprocess_df()"
   ]
  },
  {
   "cell_type": "code",
   "execution_count": null,
   "id": "6e345bae",
   "metadata": {},
   "outputs": [
    {
     "name": "stdout",
     "output_type": "stream",
     "text": [
      "The intersection between top 500 by variance vs top 500 by dndscv ranking is 50\n"
     ]
    }
   ],
   "source": [
    "intersection_length = len(df_exp.columns.intersection(var_exp.columns))\n",
    "print(f'The intersection between top 500 by variance vs top 500 by dndscv ranking is {intersection_length}')"
   ]
  },
  {
   "cell_type": "code",
   "execution_count": 8,
   "id": "8de6055d",
   "metadata": {},
   "outputs": [
    {
     "data": {
      "text/plain": [
       "array(['BRCA_LumA', 'BRCA_Her2', 'BRCA_LumB', 'BRCA_Normal', 'BRCA_Basal',\n",
       "       nan], dtype=object)"
      ]
     },
     "execution_count": 8,
     "metadata": {},
     "output_type": "execute_result"
    }
   ],
   "source": [
    "metadata_path = 'data/raw/brca_tcga_pan_can_atlas_2018_clinical_data_PAM50_subype_and_progression_free_survival.tsv'\n",
    "df_metadata = pd.read_csv(metadata_path, sep='\\t')\n",
    "df_metadata.Subtype.unique()"
   ]
  },
  {
   "cell_type": "code",
   "execution_count": null,
   "id": "14c0e1ac",
   "metadata": {},
   "outputs": [],
   "source": []
  },
  {
   "cell_type": "code",
   "execution_count": 40,
   "id": "1f719a5c",
   "metadata": {},
   "outputs": [
    {
     "data": {
      "text/plain": [
       "Index(['TCGA-A1-A0SK', 'TCGA-A1-A0SO', 'TCGA-A1-A0SP', 'TCGA-A2-A04P',\n",
       "       'TCGA-A2-A04Q', 'TCGA-A2-A04T', 'TCGA-A2-A04U', 'TCGA-A2-A0CM',\n",
       "       'TCGA-A2-A0D0', 'TCGA-A2-A0D2',\n",
       "       ...\n",
       "       'TCGA-OL-A5D7', 'TCGA-OL-A5RW', 'TCGA-OL-A5S0', 'TCGA-OL-A66I',\n",
       "       'TCGA-OL-A6VO', 'TCGA-PL-A8LV', 'TCGA-PL-A8LZ', 'TCGA-S3-AA0Z',\n",
       "       'TCGA-S3-AA10', 'TCGA-S3-AA15'],\n",
       "      dtype='object', name='Patient ID', length=171)"
      ]
     },
     "execution_count": 40,
     "metadata": {},
     "output_type": "execute_result"
    }
   ],
   "source": [
    "basal.index"
   ]
  },
  {
   "cell_type": "code",
   "execution_count": null,
   "id": "81a54305",
   "metadata": {},
   "outputs": [],
   "source": []
  }
 ],
 "metadata": {
  "kernelspec": {
   "display_name": "project4_env",
   "language": "python",
   "name": "python3"
  },
  "language_info": {
   "codemirror_mode": {
    "name": "ipython",
    "version": 3
   },
   "file_extension": ".py",
   "mimetype": "text/x-python",
   "name": "python",
   "nbconvert_exporter": "python",
   "pygments_lexer": "ipython3",
   "version": "3.13.3"
  }
 },
 "nbformat": 4,
 "nbformat_minor": 5
}
