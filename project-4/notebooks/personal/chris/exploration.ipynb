{
 "cells": [
  {
   "cell_type": "code",
   "execution_count": 5,
   "id": "f6169c0f",
   "metadata": {},
   "outputs": [],
   "source": [
    "import os\n",
    "\n",
    "# change working directory to project-3 root\n",
    "if os.getcwd().split('/')[-1] != 'project-4':\n",
    "    os.chdir('../../../')\n",
    "\n",
    "import pandas as pd\n",
    "import numpy as np\n",
    "\n",
    "from src.utils.preprocess import MutPreprocessor\n",
    "from src.utils.preprocess import GeneExpPreprocessor\n",
    "from src.models.autoencoder_runner import GeneExpressionRunner\n",
    "from src.utils.data_loader import load_expression_matrix\n",
    "from sklearn.preprocessing import StandardScaler"
   ]
  },
  {
   "cell_type": "code",
   "execution_count": 2,
   "id": "a78d871d",
   "metadata": {},
   "outputs": [
    {
     "name": "stdout",
     "output_type": "stream",
     "text": [
      "Loaded matrix with 1132 samples x 20531 genes\n",
      "Parsing gencode fasta file: data/raw/gencode.v23lift37.pc_transcripts.fa\n",
      "Finding longest CDS length for each gene\n",
      "Normalizing expression data to log1p(TPM)\n",
      "Subset data to patients with subtype: ['BRCA_Basal']\n",
      "Subset data to 171 patients with subtype: ['BRCA_Basal']\n",
      "Filtering out lowly expressed genes with mean expression of 1\n",
      "Filtering out lowest 50.0% of genes\n",
      "Subsetting to top 500 genes using method: variance\n"
     ]
    }
   ],
   "source": [
    "df_exp = GeneExpPreprocessor(subset_method='variance').get_df()"
   ]
  },
  {
   "cell_type": "code",
   "execution_count": null,
   "id": "9ac27dd5",
   "metadata": {},
   "outputs": [],
   "source": [
    "var_exp = df_exp.copy()"
   ]
  },
  {
   "cell_type": "code",
   "execution_count": 4,
   "id": "5e148c66",
   "metadata": {},
   "outputs": [
    {
     "name": "stdout",
     "output_type": "stream",
     "text": [
      "Loaded matrix with 1132 samples x 20531 genes\n",
      "Parsing gencode fasta file: data/raw/gencode.v23lift37.pc_transcripts.fa\n",
      "Finding longest CDS length for each gene\n",
      "Normalizing expression data to log1p(TPM)\n",
      "Subset data to patients with subtype: ['BRCA_Basal']\n",
      "Subset data to 171 patients with subtype: ['BRCA_Basal']\n",
      "Filtering out lowly expressed genes with mean expression of 1\n",
      "Filtering out lowest 50.0% of genes\n",
      "Subsetting to top 500 genes using method: dndscv\n"
     ]
    }
   ],
   "source": [
    "df_exp = GeneExpPreprocessor().get_df()"
   ]
  },
  {
   "cell_type": "code",
   "execution_count": 6,
   "id": "5d5ccc80",
   "metadata": {},
   "outputs": [
    {
     "name": "stdout",
     "output_type": "stream",
     "text": [
      "Using device: cpu\n"
     ]
    }
   ],
   "source": [
    "runner = GeneExpressionRunner(df_exp,latent_dim=5,\n",
    "    hidden_dims=[128, 64, 32],\n",
    "    lr=1e-3)"
   ]
  },
  {
   "cell_type": "code",
   "execution_count": 7,
   "id": "e54e499e",
   "metadata": {},
   "outputs": [],
   "source": [
    "latent = runner.train_all_and_encode(100, 100)\n",
    "df_latent = pd.DataFrame(latent, index=df_exp.index, columns=[f\"latent_{i}\" for i in range(latent.shape[1])])\n",
    "df_latent.to_csv(f\"results/tables/latent_space_original.csv\")"
   ]
  },
  {
   "cell_type": "code",
   "execution_count": null,
   "id": "3979a862",
   "metadata": {},
   "outputs": [],
   "source": []
  }
 ],
 "metadata": {
  "kernelspec": {
   "display_name": "project4_env",
   "language": "python",
   "name": "python3"
  },
  "language_info": {
   "codemirror_mode": {
    "name": "ipython",
    "version": 3
   },
   "file_extension": ".py",
   "mimetype": "text/x-python",
   "name": "python",
   "nbconvert_exporter": "python",
   "pygments_lexer": "ipython3",
   "version": "3.13.3"
  }
 },
 "nbformat": 4,
 "nbformat_minor": 5
}
