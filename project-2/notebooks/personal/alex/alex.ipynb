{
 "cells": [
  {
   "cell_type": "code",
   "execution_count": 7,
   "metadata": {},
   "outputs": [],
   "source": [
    "import pandas as pd\n",
    "import os\n",
    "\n",
    "# Construct the path relative to the notebook's location.\n",
    "notebook_dir = os.path.dirname(os.path.abspath(\"__file__\"))\n",
    "\n",
    "path_expression = os.path.join(notebook_dir, \"..\", \"..\", \"..\", \"datasets\", \"TCGA.BRCA.expression.txt\")\n",
    "df_exp = pd.read_csv(path_expression, delimiter=\"\\t\")"
   ]
  },
  {
   "cell_type": "code",
   "execution_count": null,
   "metadata": {},
   "outputs": [],
   "source": [
    "import math\n",
    "\n",
    "def evalAccuracy(Rankings):\n",
    "    \"\"\"\n",
    "    Compares the ranking of genes to intogen rankings.\n",
    "    Calculates:\n",
    "      - DCG: discounted cumulative gain with binary relevance\n",
    "      - Bpref: binary preference\n",
    "    \n",
    "    \"\"\"\n",
    "    # set of true (intogen) genes\n",
    "    \n",
    "    # load the IntOGen ranking TSV\n",
    "    path_intogen = \"IntOGen-DriverGenes_TCGA_WXS_BRCA.tsv\"\n",
    "    df_intogen = pd.read_csv(path_intogen, sep=\"\\t\")\n",
    "    \n",
    "    # build a dict mapping gene names to their IntOGen relevance.\n",
    "    #RELEVANCE IS #MUTATIONS * SAMPLES%\n",
    "    intogen_ranks = dict(zip(df_intogen[\"Symbol\"], (df_intogen[\"Mutations\"] * df_intogen[\"Samples (%)\"])))\n",
    "    \n",
    "    driver_genes = set(intogen_ranks.keys())\n",
    "    sorted_genes = sorted(Rankings, key=Rankings.get, reverse=True)\n",
    "\n",
    "    # --- DCG  ---\n",
    "    dcg = 0.0\n",
    "    for i, g in enumerate(sorted_genes):\n",
    "        if g in driver_genes:\n",
    "            # (2^relevance - 1) / log2(position+1)\n",
    "            dcg += ((2 ** intogen_ranks[g]) - 1)/ math.log2(i + 2)\n",
    "    \n",
    "    # --- Bpref ---\n",
    "    R = len(driver_genes)\n",
    "    bp_sum = 0.0\n",
    "    rel_seen = 0\n",
    "    for i, g in enumerate(sorted_genes):\n",
    "        if g in driver_genes:\n",
    "            # number of non‑relevant ranked above this relevant\n",
    "            irrel_before = i - rel_seen\n",
    "            # cap at R for the standard Bpref formula\n",
    "            bp_sum += 1 - min(irrel_before, R) / R\n",
    "            rel_seen += 1\n",
    "    \n",
    "    bpref = bp_sum / R if R > 0 else 0.0\n",
    "    return dcg, bpref"
   ]
  },
  {
   "cell_type": "code",
   "execution_count": 22,
   "metadata": {},
   "outputs": [],
   "source": [
    "path_intogen = \"IntOGen-DriverGenes_TCGA_WXS_BRCA.tsv\"\n",
    "df_intogen = pd.read_csv(path_intogen, sep=\"\\t\")\n",
    "# build a dict mapping gene names to their IntOGen rank\n",
    "intogen_ranks = dict(zip(df_intogen[\"Symbol\"], (df_intogen[\"Mutations\"] * df_intogen[\"Samples (%)\"] * 0.01)))"
   ]
  },
  {
   "cell_type": "code",
   "execution_count": 23,
   "metadata": {},
   "outputs": [
    {
     "data": {
      "text/plain": [
       "{'HRAS': 0.025,\n",
       " 'KLF4': 0.02,\n",
       " 'KRAS': 0.0354,\n",
       " 'JAK2': 0.0354,\n",
       " 'SMAD4': 0.03,\n",
       " 'ZXDB': 0.0632,\n",
       " 'ACVR1B': 0.10890000000000001,\n",
       " 'CDKN1B': 0.09790000000000001,\n",
       " 'EIF4A2': 0.11879999999999999,\n",
       " 'ABL2': 0.11879999999999999,\n",
       " 'TBL1XR1': 0.1027,\n",
       " 'NCOR2': 0.1526,\n",
       " 'FGFR2': 0.1785,\n",
       " 'EP300': 0.2384,\n",
       " 'CASP8': 0.2384,\n",
       " 'H3C2': 0.2224,\n",
       " 'FBXW7': 0.2064,\n",
       " 'RGS7': 0.19039999999999999,\n",
       " 'AFDN': 0.2193,\n",
       " 'KDM6A': 0.21419999999999997,\n",
       " 'MED23': 0.26409999999999995,\n",
       " 'ERBB3': 0.37599999999999995,\n",
       " 'SF3B1': 0.4158,\n",
       " 'CTCF': 0.545,\n",
       " 'CBFB': 0.5668000000000001,\n",
       " 'BRCA2': 0.46280000000000004,\n",
       " 'RB1': 0.6155999999999999,\n",
       " 'AKT1': 0.7783999999999999,\n",
       " 'BRCA1': 0.6664,\n",
       " 'TBX3': 0.6384,\n",
       " 'PIK3R1': 0.6901999999999999,\n",
       " 'ERBB2': 0.8256,\n",
       " 'FOXA1': 1.0692000000000002,\n",
       " 'ARID1A': 1.1480000000000001,\n",
       " 'FAT3': 1.7051999999999998,\n",
       " 'NF1': 1.3200999999999998,\n",
       " 'MAP2K4': 1.4388,\n",
       " 'RUNX1': 1.6065,\n",
       " 'NCOR1': 1.98,\n",
       " 'PTEN': 2.3856,\n",
       " 'KMT2C': 9.1778,\n",
       " 'GATA3': 12.012500000000001,\n",
       " 'CDH1': 12.2047,\n",
       " 'MAP3K1': 10.022400000000001,\n",
       " 'TP53': 103.4087,\n",
       " 'PIK3CA': 127.156}"
      ]
     },
     "execution_count": 23,
     "metadata": {},
     "output_type": "execute_result"
    }
   ],
   "source": [
    "intogen_ranks"
   ]
  }
 ],
 "metadata": {
  "kernelspec": {
   "display_name": "myenv",
   "language": "python",
   "name": "python3"
  },
  "language_info": {
   "codemirror_mode": {
    "name": "ipython",
    "version": 3
   },
   "file_extension": ".py",
   "mimetype": "text/x-python",
   "name": "python",
   "nbconvert_exporter": "python",
   "pygments_lexer": "ipython3",
   "version": "3.9.18"
  }
 },
 "nbformat": 4,
 "nbformat_minor": 2
}
