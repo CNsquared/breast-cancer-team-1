{
 "cells": [
  {
   "cell_type": "markdown",
   "id": "45b43498",
   "metadata": {},
   "source": [
    "We will perform dNdS using probabilities for single base substitutions (single nucleotide context)\n",
    "\n",
    "Do we have patients with 2 mutations in a single gene?\n",
    "\n",
    "General steps:\n",
    "1. Get the probabilities for all 6 types of single base substitutions\n",
    "   - C>A\n",
    "   - C>G\n",
    "   - C>T\n",
    "   - T>A\n",
    "   - T>C\n",
    "   - T>G\n",
    "2. "
   ]
  },
  {
   "cell_type": "code",
   "execution_count": 1,
   "id": "d1824cea",
   "metadata": {},
   "outputs": [],
   "source": [
    "import pandas as pd\n",
    "import numpy as np\n",
    "import seaborn as sns\n",
    "import matplotlib.pyplot as plt\n",
    "import os"
   ]
  },
  {
   "cell_type": "code",
   "execution_count": null,
   "id": "38581cac",
   "metadata": {},
   "outputs": [],
   "source": [
    "# change working directory to project-2\n",
    "if os.getcwd().split('/')[-1] != 'project-2':\n",
    "    os.chdir('../../../')\n",
    "\n",
    "# set paths\n",
    "METADATA = 'data/raw/TCGA.BRCA.metadata.txt'\n",
    "MUTATIONS = 'data/processed/TCGA.BRCA.mutations.qc1.txt'\n",
    "EXPRESSION = "
   ]
  },
  {
   "cell_type": "code",
   "execution_count": null,
   "id": "d5ec99fa",
   "metadata": {},
   "outputs": [],
   "source": []
  }
 ],
 "metadata": {
  "kernelspec": {
   "display_name": "project2_env",
   "language": "python",
   "name": "python3"
  },
  "language_info": {
   "codemirror_mode": {
    "name": "ipython",
    "version": 3
   },
   "file_extension": ".py",
   "mimetype": "text/x-python",
   "name": "python",
   "nbconvert_exporter": "python",
   "pygments_lexer": "ipython3",
   "version": "3.13.3"
  }
 },
 "nbformat": 4,
 "nbformat_minor": 5
}
