{
 "cells": [
  {
   "cell_type": "code",
   "execution_count": 11,
   "id": "8d2c640c",
   "metadata": {},
   "outputs": [],
   "source": [
    "import pandas as pd\n",
    "import numpy as np\n",
    "import os\n",
    "\n",
    "# change working directory to project-2\n",
    "if os.getcwd().split('/')[-1] != 'project-2':\n",
    "    os.chdir('../../')\n",
    "\n",
    "from src.utils.dnds_crude_utils import get_pval\n",
    "from src.utils.eval  import evalAccuracy, compareRankings\n",
    "\n",
    "# load the IntOGen ranking TSV\n",
    "path_intogen = \"data/raw/IntOGen-DriverGenes_TCGA_WXS_BRCA.tsv\"\n",
    "df_intogen = pd.read_csv(path_intogen, sep=\"\\t\")\n",
    "\n",
    "# build a dict mapping gene names to their IntOGen relevance.\n",
    "#RELEVANCE IS SAMPLES%\n",
    "baseline_ranks = dict(zip(df_intogen[\"Symbol\"], (df_intogen[\"Samples (%)\"] * 0.01)))"
   ]
  },
  {
   "cell_type": "code",
   "execution_count": 12,
   "id": "64883a6b",
   "metadata": {},
   "outputs": [],
   "source": [
    "# set paths\n",
    "DNDS = 'results/tables/dnds_simple_results.tsv'\n",
    "DNDSCV = 'results/tables/dNdScv_output.csv'\n",
    "\n",
    "df_dnds = pd.read_csv(DNDS, sep='\\t')\n",
    "df_dndscv = pd.read_csv(DNDSCV)\n",
    "\n",
    "df_dnds = get_pval(df_dnds)"
   ]
  },
  {
   "cell_type": "code",
   "execution_count": 18,
   "id": "334058b3",
   "metadata": {},
   "outputs": [
    {
     "name": "stdout",
     "output_type": "stream",
     "text": [
      "dNdS: Using fisher pval, DCG: 0.6004291471392449, Bpref: 0.3983931947069944, Accuracy: 0.4130434782608695\n"
     ]
    }
   ],
   "source": [
    "df_dn_ds = df_dnds\n",
    "\n",
    "dn_ds_ranks = dict(zip(df_dn_ds[\"Hugo_Symbol\"], 1-df_dn_ds[\"fisher_pval\"]))\n",
    "\n",
    "# calculate accuracy metrics\n",
    "dcg, bpref, accuracy = evalAccuracy(dn_ds_ranks, baseline_ranks)\n",
    "\n",
    "df_gene_ranks = compareRankings(dn_ds_ranks, baseline_ranks)\n",
    "\n",
    "print(f\"dNdS: Using fisher pval, DCG: {dcg}, Bpref: {bpref}, Accuracy: {accuracy}\")\n",
    "\n",
    "obs = []\n",
    "obs.append({'dcg': {dcg}, 'bpref': {bpref}, 'accuracy': {accuracy}})"
   ]
  },
  {
   "cell_type": "code",
   "execution_count": 19,
   "id": "41fc8a6a",
   "metadata": {},
   "outputs": [
    {
     "name": "stdout",
     "output_type": "stream",
     "text": [
      "dNdScv: Using qlobal_cv, DCG: 0.5920363154007605, Bpref: 0.5760869565217391, Accuracy: 0.5652173913043479\n"
     ]
    }
   ],
   "source": [
    "df_dn_ds = df_dndscv\n",
    "\n",
    "df_dn_ds['Hugo_Symbol'] = df_dn_ds['gene_name']\n",
    "\n",
    "dn_ds_ranks = dict(zip(df_dn_ds[\"Hugo_Symbol\"], 1-df_dn_ds[\"qglobal_cv\"]))\n",
    "\n",
    "# calculate accuracy metrics\n",
    "dcg, bpref, accuracy = evalAccuracy(dn_ds_ranks, baseline_ranks)\n",
    "\n",
    "df_gene_ranks = compareRankings(dn_ds_ranks, baseline_ranks)\n",
    "\n",
    "print(f\"dNdScv: Using qlobal_cv, DCG: {dcg}, Bpref: {bpref}, Accuracy: {accuracy}\")\n",
    "obs.append({'dcg': {dcg}, 'bpref': {bpref}, 'accuracy': {accuracy}})"
   ]
  },
  {
   "cell_type": "code",
   "execution_count": 23,
   "id": "3dd0bef7",
   "metadata": {},
   "outputs": [],
   "source": [
    "results = pd.DataFrame(obs, index=['dNdS','dNdScv'])\n",
    "results.to_csv('results/tables/dnds_vs_dndscv.tsv', sep='\\t')"
   ]
  },
  {
   "cell_type": "code",
   "execution_count": null,
   "id": "199839e5",
   "metadata": {},
   "outputs": [],
   "source": []
  }
 ],
 "metadata": {
  "kernelspec": {
   "display_name": "project2_env",
   "language": "python",
   "name": "python3"
  },
  "language_info": {
   "codemirror_mode": {
    "name": "ipython",
    "version": 3
   },
   "file_extension": ".py",
   "mimetype": "text/x-python",
   "name": "python",
   "nbconvert_exporter": "python",
   "pygments_lexer": "ipython3",
   "version": "3.13.3"
  }
 },
 "nbformat": 4,
 "nbformat_minor": 5
}
