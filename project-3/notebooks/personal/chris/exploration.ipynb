{
 "cells": [
  {
   "cell_type": "code",
   "execution_count": 1,
   "id": "f6169c0f",
   "metadata": {},
   "outputs": [],
   "source": [
    "import os\n",
    "\n",
    "# change working directory to project-3 root\n",
    "if os.getcwd().split('/')[-1] != 'project-3':\n",
    "    os.chdir('../../../')\n",
    "\n",
    "import pandas as pd\n",
    "import numpy as np\n",
    "from src.models.nmf_runner import NMFDecomposer"
   ]
  },
  {
   "cell_type": "code",
   "execution_count": 2,
   "id": "8cf41b66",
   "metadata": {},
   "outputs": [
    {
     "name": "stdout",
     "output_type": "stream",
     "text": [
      "Running NMF with following parameters:\n",
      "n_components: 5\n",
      "random_state: 42\n",
      "objective_function: frobenius\n",
      "num_factorizations: 2\n",
      "resample_method: poisson\n",
      "normalization_method: GMM\n",
      "initialization_method: random\n",
      "tolerance: 1e-06\n",
      "max_iter: 10000\n",
      "verbose: True\n",
      "Running NMF factorization k=5, iteration=1/2\n"
     ]
    },
    {
     "name": "stdout",
     "output_type": "stream",
     "text": [
      "Running NMF factorization k=5, iteration=2/2\n"
     ]
    }
   ],
   "source": [
    "df_sbs = pd.read_csv('data/processed/BRCA.SBS96.all', sep='\\t', index_col=0)\n",
    "X = np.array(df_sbs)\n",
    "\n",
    "\n",
    "NMF_PARAMS = {\n",
    "    'n_components': 5,\n",
    "    'resample_method': 'poisson',\n",
    "    'objective_function': 'frobenius',\n",
    "    'initialization_method': 'random',\n",
    "    'normalization_method': 'GMM',\n",
    "    'max_iter': 10000,\n",
    "    'num_factorizations': 2,\n",
    "    'random_state': 42,\n",
    "    'tolerance': 1e-6\n",
    "}\n",
    "\n",
    "nmf_model = NMFDecomposer(**NMF_PARAMS, verbose=True)\n",
    "S_all, A_all, err_all, n_iter_all = nmf_model.run(X)"
   ]
  },
  {
   "cell_type": "code",
   "execution_count": null,
   "id": "97643ecd",
   "metadata": {},
   "outputs": [],
   "source": []
  }
 ],
 "metadata": {
  "kernelspec": {
   "display_name": "project3_env",
   "language": "python",
   "name": "python3"
  },
  "language_info": {
   "codemirror_mode": {
    "name": "ipython",
    "version": 3
   },
   "file_extension": ".py",
   "mimetype": "text/x-python",
   "name": "python",
   "nbconvert_exporter": "python",
   "pygments_lexer": "ipython3",
   "version": "3.13.3"
  }
 },
 "nbformat": 4,
 "nbformat_minor": 5
}
