{
 "cells": [
  {
   "cell_type": "code",
   "execution_count": 1,
   "id": "f7912ce4",
   "metadata": {},
   "outputs": [],
   "source": [
    "import os\n",
    "\n",
    "# change working directory to project-3 root\n",
    "if os.getcwd().split('/')[-1] != 'project-3':\n",
    "    os.chdir('../../../')\n",
    "\n",
    "import pandas as pd\n",
    "import numpy as np\n",
    "from src.utils.mutation_matrix import normalize_matrix\n",
    "from sklearn.mixture import GaussianMixture"
   ]
  },
  {
   "cell_type": "code",
   "execution_count": 2,
   "id": "855d6592",
   "metadata": {},
   "outputs": [
    {
     "data": {
      "text/html": [
       "<div>\n",
       "<style scoped>\n",
       "    .dataframe tbody tr th:only-of-type {\n",
       "        vertical-align: middle;\n",
       "    }\n",
       "\n",
       "    .dataframe tbody tr th {\n",
       "        vertical-align: top;\n",
       "    }\n",
       "\n",
       "    .dataframe thead th {\n",
       "        text-align: right;\n",
       "    }\n",
       "</style>\n",
       "<table border=\"1\" class=\"dataframe\">\n",
       "  <thead>\n",
       "    <tr style=\"text-align: right;\">\n",
       "      <th></th>\n",
       "      <th>TCGA-3C-AAAU</th>\n",
       "      <th>TCGA-3C-AALI</th>\n",
       "      <th>TCGA-3C-AALJ</th>\n",
       "      <th>TCGA-3C-AALK</th>\n",
       "      <th>TCGA-4H-AAAK</th>\n",
       "      <th>TCGA-5L-AAT0</th>\n",
       "      <th>TCGA-5L-AAT1</th>\n",
       "      <th>TCGA-5T-A9QA</th>\n",
       "      <th>TCGA-A1-A0SB</th>\n",
       "      <th>TCGA-A1-A0SD</th>\n",
       "      <th>...</th>\n",
       "      <th>TCGA-UL-AAZ6</th>\n",
       "      <th>TCGA-UU-A93S</th>\n",
       "      <th>TCGA-V7-A7HQ</th>\n",
       "      <th>TCGA-W8-A86G</th>\n",
       "      <th>TCGA-WT-AB41</th>\n",
       "      <th>TCGA-WT-AB44</th>\n",
       "      <th>TCGA-XX-A899</th>\n",
       "      <th>TCGA-XX-A89A</th>\n",
       "      <th>TCGA-Z7-A8R5</th>\n",
       "      <th>TCGA-Z7-A8R6</th>\n",
       "    </tr>\n",
       "    <tr>\n",
       "      <th>MutationType</th>\n",
       "      <th></th>\n",
       "      <th></th>\n",
       "      <th></th>\n",
       "      <th></th>\n",
       "      <th></th>\n",
       "      <th></th>\n",
       "      <th></th>\n",
       "      <th></th>\n",
       "      <th></th>\n",
       "      <th></th>\n",
       "      <th></th>\n",
       "      <th></th>\n",
       "      <th></th>\n",
       "      <th></th>\n",
       "      <th></th>\n",
       "      <th></th>\n",
       "      <th></th>\n",
       "      <th></th>\n",
       "      <th></th>\n",
       "      <th></th>\n",
       "      <th></th>\n",
       "    </tr>\n",
       "  </thead>\n",
       "  <tbody>\n",
       "    <tr>\n",
       "      <th>A[C&gt;A]A</th>\n",
       "      <td>0</td>\n",
       "      <td>3</td>\n",
       "      <td>0</td>\n",
       "      <td>0</td>\n",
       "      <td>1</td>\n",
       "      <td>1</td>\n",
       "      <td>3</td>\n",
       "      <td>0</td>\n",
       "      <td>0</td>\n",
       "      <td>0</td>\n",
       "      <td>...</td>\n",
       "      <td>4</td>\n",
       "      <td>4</td>\n",
       "      <td>0</td>\n",
       "      <td>0</td>\n",
       "      <td>0</td>\n",
       "      <td>1</td>\n",
       "      <td>0</td>\n",
       "      <td>1</td>\n",
       "      <td>1</td>\n",
       "      <td>0</td>\n",
       "    </tr>\n",
       "    <tr>\n",
       "      <th>A[C&gt;A]C</th>\n",
       "      <td>1</td>\n",
       "      <td>3</td>\n",
       "      <td>3</td>\n",
       "      <td>0</td>\n",
       "      <td>1</td>\n",
       "      <td>0</td>\n",
       "      <td>3</td>\n",
       "      <td>0</td>\n",
       "      <td>0</td>\n",
       "      <td>1</td>\n",
       "      <td>...</td>\n",
       "      <td>0</td>\n",
       "      <td>3</td>\n",
       "      <td>2</td>\n",
       "      <td>1</td>\n",
       "      <td>0</td>\n",
       "      <td>0</td>\n",
       "      <td>0</td>\n",
       "      <td>0</td>\n",
       "      <td>0</td>\n",
       "      <td>0</td>\n",
       "    </tr>\n",
       "    <tr>\n",
       "      <th>A[C&gt;A]G</th>\n",
       "      <td>1</td>\n",
       "      <td>0</td>\n",
       "      <td>1</td>\n",
       "      <td>0</td>\n",
       "      <td>0</td>\n",
       "      <td>0</td>\n",
       "      <td>1</td>\n",
       "      <td>0</td>\n",
       "      <td>0</td>\n",
       "      <td>0</td>\n",
       "      <td>...</td>\n",
       "      <td>1</td>\n",
       "      <td>1</td>\n",
       "      <td>0</td>\n",
       "      <td>0</td>\n",
       "      <td>0</td>\n",
       "      <td>0</td>\n",
       "      <td>0</td>\n",
       "      <td>0</td>\n",
       "      <td>1</td>\n",
       "      <td>0</td>\n",
       "    </tr>\n",
       "    <tr>\n",
       "      <th>A[C&gt;A]T</th>\n",
       "      <td>0</td>\n",
       "      <td>2</td>\n",
       "      <td>0</td>\n",
       "      <td>0</td>\n",
       "      <td>0</td>\n",
       "      <td>0</td>\n",
       "      <td>0</td>\n",
       "      <td>0</td>\n",
       "      <td>0</td>\n",
       "      <td>0</td>\n",
       "      <td>...</td>\n",
       "      <td>1</td>\n",
       "      <td>3</td>\n",
       "      <td>0</td>\n",
       "      <td>0</td>\n",
       "      <td>0</td>\n",
       "      <td>0</td>\n",
       "      <td>0</td>\n",
       "      <td>0</td>\n",
       "      <td>0</td>\n",
       "      <td>0</td>\n",
       "    </tr>\n",
       "    <tr>\n",
       "      <th>A[C&gt;G]A</th>\n",
       "      <td>0</td>\n",
       "      <td>1</td>\n",
       "      <td>1</td>\n",
       "      <td>0</td>\n",
       "      <td>0</td>\n",
       "      <td>0</td>\n",
       "      <td>3</td>\n",
       "      <td>1</td>\n",
       "      <td>1</td>\n",
       "      <td>0</td>\n",
       "      <td>...</td>\n",
       "      <td>0</td>\n",
       "      <td>1</td>\n",
       "      <td>0</td>\n",
       "      <td>0</td>\n",
       "      <td>0</td>\n",
       "      <td>0</td>\n",
       "      <td>0</td>\n",
       "      <td>1</td>\n",
       "      <td>0</td>\n",
       "      <td>1</td>\n",
       "    </tr>\n",
       "  </tbody>\n",
       "</table>\n",
       "<p>5 rows × 789 columns</p>\n",
       "</div>"
      ],
      "text/plain": [
       "              TCGA-3C-AAAU  TCGA-3C-AALI  TCGA-3C-AALJ  TCGA-3C-AALK  \\\n",
       "MutationType                                                           \n",
       "A[C>A]A                  0             3             0             0   \n",
       "A[C>A]C                  1             3             3             0   \n",
       "A[C>A]G                  1             0             1             0   \n",
       "A[C>A]T                  0             2             0             0   \n",
       "A[C>G]A                  0             1             1             0   \n",
       "\n",
       "              TCGA-4H-AAAK  TCGA-5L-AAT0  TCGA-5L-AAT1  TCGA-5T-A9QA  \\\n",
       "MutationType                                                           \n",
       "A[C>A]A                  1             1             3             0   \n",
       "A[C>A]C                  1             0             3             0   \n",
       "A[C>A]G                  0             0             1             0   \n",
       "A[C>A]T                  0             0             0             0   \n",
       "A[C>G]A                  0             0             3             1   \n",
       "\n",
       "              TCGA-A1-A0SB  TCGA-A1-A0SD  ...  TCGA-UL-AAZ6  TCGA-UU-A93S  \\\n",
       "MutationType                              ...                               \n",
       "A[C>A]A                  0             0  ...             4             4   \n",
       "A[C>A]C                  0             1  ...             0             3   \n",
       "A[C>A]G                  0             0  ...             1             1   \n",
       "A[C>A]T                  0             0  ...             1             3   \n",
       "A[C>G]A                  1             0  ...             0             1   \n",
       "\n",
       "              TCGA-V7-A7HQ  TCGA-W8-A86G  TCGA-WT-AB41  TCGA-WT-AB44  \\\n",
       "MutationType                                                           \n",
       "A[C>A]A                  0             0             0             1   \n",
       "A[C>A]C                  2             1             0             0   \n",
       "A[C>A]G                  0             0             0             0   \n",
       "A[C>A]T                  0             0             0             0   \n",
       "A[C>G]A                  0             0             0             0   \n",
       "\n",
       "              TCGA-XX-A899  TCGA-XX-A89A  TCGA-Z7-A8R5  TCGA-Z7-A8R6  \n",
       "MutationType                                                          \n",
       "A[C>A]A                  0             1             1             0  \n",
       "A[C>A]C                  0             0             0             0  \n",
       "A[C>A]G                  0             0             1             0  \n",
       "A[C>A]T                  0             0             0             0  \n",
       "A[C>G]A                  0             1             0             1  \n",
       "\n",
       "[5 rows x 789 columns]"
      ]
     },
     "execution_count": 2,
     "metadata": {},
     "output_type": "execute_result"
    }
   ],
   "source": [
    "df_sbs = pd.read_csv('data/processed/BRCA.SBS96.all', sep='\\t', index_col=0)\n",
    "df_sbs.head()"
   ]
  },
  {
   "cell_type": "code",
   "execution_count": 3,
   "id": "0489734b",
   "metadata": {},
   "outputs": [
    {
     "data": {
      "text/plain": [
       "array([[0, 3, 0, ..., 1, 1, 0],\n",
       "       [1, 3, 3, ..., 0, 0, 0],\n",
       "       [1, 0, 1, ..., 0, 1, 0],\n",
       "       ...,\n",
       "       [0, 0, 0, ..., 0, 0, 0],\n",
       "       [0, 0, 1, ..., 0, 0, 0],\n",
       "       [0, 2, 1, ..., 2, 0, 0]], shape=(96, 789))"
      ]
     },
     "execution_count": 3,
     "metadata": {},
     "output_type": "execute_result"
    }
   ],
   "source": [
    "X = np.array(df_sbs)\n",
    "X"
   ]
  },
  {
   "cell_type": "code",
   "execution_count": 4,
   "id": "193618a1",
   "metadata": {},
   "outputs": [
    {
     "data": {
      "text/plain": [
       "array([[0., 3., 0., ..., 1., 1., 0.],\n",
       "       [1., 3., 3., ..., 0., 0., 0.],\n",
       "       [1., 0., 1., ..., 0., 1., 0.],\n",
       "       ...,\n",
       "       [0., 0., 0., ..., 0., 0., 0.],\n",
       "       [0., 0., 1., ..., 0., 0., 0.],\n",
       "       [0., 2., 1., ..., 2., 0., 0.]], shape=(96, 789))"
      ]
     },
     "execution_count": 4,
     "metadata": {},
     "output_type": "execute_result"
    }
   ],
   "source": [
    "normalize_matrix(X, method='GMM')"
   ]
  },
  {
   "cell_type": "code",
   "execution_count": 5,
   "id": "38259afa",
   "metadata": {},
   "outputs": [
    {
     "data": {
      "text/plain": [
       "array([[0., 3., 0., ..., 1., 1., 0.],\n",
       "       [1., 3., 3., ..., 0., 0., 0.],\n",
       "       [1., 0., 1., ..., 0., 1., 0.],\n",
       "       ...,\n",
       "       [0., 0., 0., ..., 0., 0., 0.],\n",
       "       [0., 0., 1., ..., 0., 0., 0.],\n",
       "       [0., 2., 1., ..., 2., 0., 0.]], shape=(96, 789))"
      ]
     },
     "execution_count": 5,
     "metadata": {},
     "output_type": "execute_result"
    }
   ],
   "source": [
    "normalize_matrix(X, method='100X')"
   ]
  },
  {
   "cell_type": "code",
   "execution_count": 6,
   "id": "eb83abf1",
   "metadata": {},
   "outputs": [
    {
     "data": {
      "text/plain": [
       "array([[0.        , 0.0358597 , 0.        , ..., 0.03037679, 0.14963126,\n",
       "        0.        ],\n",
       "       [0.12007743, 0.0358597 , 0.27474519, ..., 0.        , 0.        ,\n",
       "        0.        ],\n",
       "       [0.12007743, 0.        , 0.09158173, ..., 0.        , 0.14963126,\n",
       "        0.        ],\n",
       "       ...,\n",
       "       [0.        , 0.        , 0.        , ..., 0.        , 0.        ,\n",
       "        0.        ],\n",
       "       [0.        , 0.        , 0.09158173, ..., 0.        , 0.        ,\n",
       "        0.        ],\n",
       "       [0.        , 0.02390646, 0.09158173, ..., 0.06075357, 0.        ,\n",
       "        0.        ]], shape=(96, 789))"
      ]
     },
     "execution_count": 6,
     "metadata": {},
     "output_type": "execute_result"
    }
   ],
   "source": [
    "normalize_matrix(X, method='log2')"
   ]
  },
  {
   "cell_type": "code",
   "execution_count": 7,
   "id": "6960d11e",
   "metadata": {},
   "outputs": [
    {
     "data": {
      "text/plain": [
       "array([[0., 3., 0., ..., 1., 1., 0.],\n",
       "       [1., 3., 3., ..., 0., 0., 0.],\n",
       "       [1., 0., 1., ..., 0., 1., 0.],\n",
       "       ...,\n",
       "       [0., 0., 0., ..., 0., 0., 0.],\n",
       "       [0., 0., 1., ..., 0., 0., 0.],\n",
       "       [0., 2., 1., ..., 2., 0., 0.]], shape=(96, 789))"
      ]
     },
     "execution_count": 7,
     "metadata": {},
     "output_type": "execute_result"
    }
   ],
   "source": [
    "normalize_matrix(X, method='None')"
   ]
  },
  {
   "cell_type": "code",
   "execution_count": null,
   "id": "e47219db",
   "metadata": {},
   "outputs": [],
   "source": []
  }
 ],
 "metadata": {
  "kernelspec": {
   "display_name": "project3_env",
   "language": "python",
   "name": "python3"
  },
  "language_info": {
   "codemirror_mode": {
    "name": "ipython",
    "version": 3
   },
   "file_extension": ".py",
   "mimetype": "text/x-python",
   "name": "python",
   "nbconvert_exporter": "python",
   "pygments_lexer": "ipython3",
   "version": "3.13.3"
  }
 },
 "nbformat": 4,
 "nbformat_minor": 5
}
