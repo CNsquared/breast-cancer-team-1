{
 "cells": [
  {
   "cell_type": "markdown",
   "id": "d39c683a",
   "metadata": {},
   "source": [
    "Goal: Evaluate impact of initialization, normalization method, and objective function on reconstruction error and stability."
   ]
  },
  {
   "cell_type": "code",
   "execution_count": null,
   "id": "c5256484",
   "metadata": {},
   "outputs": [],
   "source": [
    "import os\n",
    "\n",
    "# change working directory to project-3 root\n",
    "if os.getcwd().split('/')[-1] != 'project-3':\n",
    "    os.chdir('../../../')\n",
    "\n",
    "from src.models.nmf_runner import NMFDecomposer\n",
    "import numpy as np\n",
    "import pandas as pd\n",
    "import joblib"
   ]
  },
  {
   "cell_type": "code",
   "execution_count": null,
   "id": "c7d94b25",
   "metadata": {},
   "outputs": [],
   "source": [
    "# load mutation matrix\n",
    "matrix = joblib.load(\"data/processed/mutation_matrix.pkl\")\n",
    "X = matrix['X']"
   ]
  },
  {
   "cell_type": "code",
   "execution_count": null,
   "id": "3009d237",
   "metadata": {},
   "outputs": [],
   "source": [
    "init_methods = ['random', 'nndsvd']\n",
    "norms = ['row-wise', 'column-wise', 'z-score']\n",
    "objectives = ['frobenius', 'kullback-leibler']\n",
    "results = []\n",
    "# loop through different initializations, normalization methods, and objectives\n",
    "for init in init_methods:\n",
    "    for norm in norms:\n",
    "        for obj in objectives:\n",
    "            # Preprocess with this normalization\n",
    "            # You may need to rerun normalization if norm affects input\n",
    "            nmf = NMFDecomposer(n_components=5, objective_function=obj)\n",
    "            W, H = nmf.fit(X)\n",
    "            stability = nmf.get_stability(W)\n",
    "            recon_error = np.linalg.norm(X - W @ H, 'fro')  # or use appropriate loss\n",
    "\n",
    "            results.append((init, norm, obj, recon_error, stability))\n",
    "\n",
    "# plot results\n",
    "df_results = pd.DataFrame(results, columns=[\"init\", \"norm\", \"obj\", \"recon_error\", \"stability\"])\n",
    "display(df_results.sort_values(\"recon_error\"))\n"
   ]
  }
 ],
 "metadata": {
  "language_info": {
   "name": "python"
  }
 },
 "nbformat": 4,
 "nbformat_minor": 5
}
