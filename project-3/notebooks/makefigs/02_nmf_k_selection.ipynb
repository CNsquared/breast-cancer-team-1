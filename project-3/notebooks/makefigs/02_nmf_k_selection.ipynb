{
 "cells": [
  {
   "cell_type": "markdown",
   "id": "b12d5e76",
   "metadata": {},
   "source": [
    "Goal: Identify best k using reconstruction error and stability metrics."
   ]
  },
  {
   "cell_type": "code",
   "execution_count": null,
   "id": "45a171a5",
   "metadata": {},
   "outputs": [],
   "source": [
    "import os\n",
    "\n",
    "# change working directory to project-3 root\n",
    "if os.getcwd().split('/')[-1] != 'project-3':\n",
    "    os.chdir('../../../')\n",
    "\n",
    "from src.models.nmf_runner import NMFDecomposer\n",
    "import numpy as np\n",
    "import joblib\n",
    "import matplotlib.pyplot as plt"
   ]
  },
  {
   "cell_type": "code",
   "execution_count": null,
   "id": "2577b0ce",
   "metadata": {},
   "outputs": [],
   "source": [
    "matrix = joblib.load(\"data/processed/mutation_matrix.pkl\")\n",
    "X = matrix['X']"
   ]
  },
  {
   "cell_type": "code",
   "execution_count": null,
   "id": "2f7e59c8",
   "metadata": {},
   "outputs": [],
   "source": [
    "ks = range(2, 15)\n",
    "recon_errors = []\n",
    "stabilities = []\n",
    "\n",
    "# loop over k\n",
    "for k in ks:\n",
    "    nmf = NMFDecomposer(n_components=k, objective_function=\"frobenius\")\n",
    "    W, H = nmf.fit(X)\n",
    "    error = np.linalg.norm(X - W @ H, 'fro')\n",
    "    stab = np.mean(nmf.get_stability(W))  # or std\n",
    "    recon_errors.append(error)\n",
    "    stabilities.append(stab)\n",
    "\n",
    "# make elbow plot\n",
    "\n",
    "fig, ax1 = plt.subplots()\n",
    "ax1.plot(ks, recon_errors, label=\"Reconstruction Error\")\n",
    "ax1.set_ylabel(\"Reconstruction Error\")\n",
    "\n",
    "ax2 = ax1.twinx()\n",
    "ax2.plot(ks, stabilities, label=\"Stability\", color=\"orange\")\n",
    "ax2.set_ylabel(\"Stability\")\n",
    "\n",
    "plt.title(\"NMF Component Selection\")\n",
    "plt.xlabel(\"Number of Components (k)\")\n",
    "plt.show()\n"
   ]
  }
 ],
 "metadata": {
  "kernelspec": {
   "display_name": "data",
   "language": "python",
   "name": "python3"
  },
  "language_info": {
   "name": "python",
   "version": "3.12.2"
  }
 },
 "nbformat": 4,
 "nbformat_minor": 5
}
