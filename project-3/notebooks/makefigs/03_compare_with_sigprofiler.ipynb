{
 "cells": [
  {
   "cell_type": "markdown",
   "id": "6ecfce23",
   "metadata": {},
   "source": [
    "Goal: Compare NMF-derived components (W or H) with known signatures from SigProfiler using cosine similarity."
   ]
  },
  {
   "cell_type": "code",
   "execution_count": null,
   "id": "9a88e6ba",
   "metadata": {},
   "outputs": [],
   "source": [
    "import os\n",
    "\n",
    "# change working directory to project-3 root\n",
    "if os.getcwd().split('/')[-1] != 'project-3':\n",
    "    os.chdir('../../../')\n",
    "\n",
    "import pandas as pd\n",
    "import seaborn as sns\n",
    "import matplotlib.pyplot as plt"
   ]
  },
  {
   "cell_type": "code",
   "execution_count": null,
   "id": "8ed45de4",
   "metadata": {},
   "outputs": [],
   "source": [
    "# load results\n",
    "cos_sim = pd.read_csv(\"reports/cosine_similarity_results.csv\")"
   ]
  },
  {
   "cell_type": "code",
   "execution_count": null,
   "id": "462d5b24",
   "metadata": {},
   "outputs": [],
   "source": [
    "# plot results\n",
    "sns.heatmap(cos_sim, annot=True, cmap='viridis')\n",
    "plt.title(\"Cosine Similarity: NMF vs SigProfiler Signatures\")\n",
    "plt.xlabel(\"SigProfiler Signatures\")\n",
    "plt.ylabel(\"NMF Components\")\n",
    "plt.show()"
   ]
  }
 ],
 "metadata": {
  "kernelspec": {
   "display_name": "data",
   "language": "python",
   "name": "python3"
  },
  "language_info": {
   "name": "python",
   "version": "3.12.2"
  }
 },
 "nbformat": 4,
 "nbformat_minor": 5
}
